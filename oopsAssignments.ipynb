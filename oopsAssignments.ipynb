{
 "cells": [
  {
   "cell_type": "markdown",
   "id": "d5453239-dc85-462b-8cae-d0b58b923e4c",
   "metadata": {},
   "source": [
    "# Question 1"
   ]
  },
  {
   "cell_type": "code",
   "execution_count": null,
   "id": "7383cc74-f6c3-4c53-ae53-fadc3b9411c1",
   "metadata": {},
   "outputs": [],
   "source": [
    "\"\"\"A class is a blueprint or template for creating objects.\n",
    "It defines a set of attributes (data) and methods (functions) that the objects created from the class can have.\n",
    "Essentially, a class encapsulates data and functions that operate on the data.\"\"\""
   ]
  },
  {
   "cell_type": "code",
   "execution_count": null,
   "id": "a7b27b58-d976-4348-a3b7-14343e713899",
   "metadata": {},
   "outputs": [],
   "source": [
    "\"\"\"An object is an instance of a class.\n",
    "It is created using the class blueprint and contains real values instead of variables.\n",
    "Objects can use the methods defined in the class and store their own data in the attributes.\"\"\""
   ]
  },
  {
   "cell_type": "code",
   "execution_count": null,
   "id": "046f7648-6a75-403f-9063-e300e4305c12",
   "metadata": {},
   "outputs": [],
   "source": [
    "// Example are -"
   ]
  },
  {
   "cell_type": "code",
   "execution_count": 1,
   "id": "9af08086-033f-4a9c-82d7-bb62a962c3b1",
   "metadata": {},
   "outputs": [
    {
     "name": "stdout",
     "output_type": "stream",
     "text": [
      "Toyota\n",
      "Corolla\n",
      "2020\n",
      "The engine of the Toyota Corolla is now running.\n",
      "The engine of the Toyota Corolla is now off.\n"
     ]
    }
   ],
   "source": [
    "class Car:\n",
    "    def __init__(self, make, model, year):\n",
    "        self.make = make\n",
    "        self.model = model\n",
    "        self.year = year\n",
    "\n",
    "    def start_engine(self):\n",
    "        print(f\"The engine of the {self.make} {self.model} is now running.\")\n",
    "\n",
    "    def stop_engine(self):\n",
    "        print(f\"The engine of the {self.make} {self.model} is now off.\")\n",
    "        \n",
    "        \n",
    "    # Creating an object of the Car class\n",
    "my_car = Car(\"Toyota\", \"Corolla\", 2020)\n",
    "\n",
    "# Accessing attributes\n",
    "print(my_car.make)  # Output: Toyota\n",
    "print(my_car.model)  # Output: Corolla\n",
    "print(my_car.year)  # Output: 2020\n",
    "\n",
    "# Calling methods\n",
    "my_car.start_engine()  # Output: The engine of the Toyota Corolla is now running.\n",
    "my_car.stop_engine()   # Output: The engine of the Toyota Corolla is now off.\n",
    "    \n"
   ]
  },
  {
   "cell_type": "markdown",
   "id": "fb9e5893-48e8-4919-bf90-793c9cd8c2b2",
   "metadata": {},
   "source": [
    "# Question 2 "
   ]
  },
  {
   "cell_type": "markdown",
   "id": "9c95c858-3717-4433-b7c6-58f99c948f8b",
   "metadata": {},
   "source": [
    "### The Four piller of oop's are :-"
   ]
  },
  {
   "cell_type": "markdown",
   "id": "443a1daa-123b-4ab1-aaa8-33ed05419322",
   "metadata": {},
   "source": [
    "#### Polymorphism \n",
    "\n",
    "#### Inheritance \n",
    "\n",
    "#### Abstraction \n",
    "\n",
    "#### Encapsulation "
   ]
  },
  {
   "cell_type": "markdown",
   "id": "709c84cb-6acb-437d-95a5-23650cfd3ce3",
   "metadata": {},
   "source": [
    "# Question 3 "
   ]
  },
  {
   "cell_type": "code",
   "execution_count": null,
   "id": "0ef9428a-0195-4b8b-972d-b19d8c499f36",
   "metadata": {},
   "outputs": [],
   "source": [
    "\"\"\"The __init__() function in Python is a special method known as the constructor.\n",
    "It is automatically called when a new instance (object) of a class is created.\n",
    "The primary purpose of the __init__() function is to initialize the attributes of the object with initial values.\n",
    "This ensures that the object starts its life in a known state, with all necessary properties set up.\"\"\""
   ]
  },
  {
   "cell_type": "code",
   "execution_count": 2,
   "id": "ae6c3c3d-d050-49fc-adba-9e85106fd230",
   "metadata": {},
   "outputs": [
    {
     "name": "stdout",
     "output_type": "stream",
     "text": [
      "Alice\n",
      "30\n",
      "Bob\n",
      "25\n",
      "Hello, my name is Alice and I am 30 years old.\n",
      "Hello, my name is Bob and I am 25 years old.\n"
     ]
    }
   ],
   "source": [
    "class Person:\n",
    "    def __init__(self, name, age):\n",
    "        self.name = name\n",
    "        self.age = age\n",
    "\n",
    "    def greet(self):\n",
    "        print(f\"Hello, my name is {self.name} and I am {self.age} years old.\")\n",
    "\n",
    "        \n",
    "        \n",
    "# Creating an object of the Person class\n",
    "person1 = Person(\"Alice\", 30)\n",
    "person2 = Person(\"Bob\", 25)\n",
    "\n",
    "# Accessing attributes\n",
    "print(person1.name)  # Output: Alice\n",
    "print(person1.age)   # Output: 30\n",
    "\n",
    "print(person2.name)  # Output: Bob\n",
    "print(person2.age)   # Output: 25\n",
    "\n",
    "# Calling methods\n",
    "person1.greet()  # Output: Hello, my name is Alice and I am 30 years old.\n",
    "person2.greet()  # Output: Hello, my name is Bob and I am 25 years old.\n",
    "        "
   ]
  },
  {
   "cell_type": "markdown",
   "id": "db0c49c8-5935-44ef-a26a-8a0359502348",
   "metadata": {},
   "source": [
    "# Question 4 "
   ]
  },
  {
   "cell_type": "markdown",
   "id": "fbefc54a-6eae-47ea-a303-e965f941f4d4",
   "metadata": {},
   "source": [
    "## Object-oriented programming: The use of “self” is fundamental to object-oriented programming in Python.\n",
    "## In OOP, objects are created from classes, and “self” is used to refer to the specific instance of the class being manipulated."
   ]
  },
  {
   "cell_type": "markdown",
   "id": "8493b5bd-1b20-4d88-82ce-15659c53a88f",
   "metadata": {},
   "source": [
    "#### And we can, change the name of self we can write any name on place of self."
   ]
  },
  {
   "cell_type": "markdown",
   "id": "ad80ae3c-cea8-43e3-b8ee-3ec99cd1be02",
   "metadata": {},
   "source": [
    "# Question 5 "
   ]
  },
  {
   "cell_type": "code",
   "execution_count": null,
   "id": "97732cec-39b7-47db-849a-8c4f1f8e029d",
   "metadata": {},
   "outputs": [],
   "source": [
    "\"\"\"Inheritance is a fundamental concept in object-oriented programming (OOP) that allows a class to inherit properties and behaviors (attributes and methods) from another class.\n",
    "This promotes code reusability and establishes a hierarchical relationship between classes.\n",
    "\n",
    "-> Types of Inheritance\n",
    "1. Single Inheritance\n",
    "2. Multiple Inheritance\n",
    "3. Multilevel Inheritance\n",
    "4. Hierarchical Inheritance\n",
    "5. Hybrid Inheritance \"\"\""
   ]
  },
  {
   "cell_type": "code",
   "execution_count": 4,
   "id": "b2a2500d-2124-4598-8b22-f75e2cefcc4d",
   "metadata": {},
   "outputs": [
    {
     "data": {
      "text/plain": [
       "' Example of single Inheritamce '"
      ]
     },
     "execution_count": 4,
     "metadata": {},
     "output_type": "execute_result"
    }
   ],
   "source": [
    "\"\"\" Example of single Inheritance \"\"\""
   ]
  },
  {
   "cell_type": "code",
   "execution_count": 5,
   "id": "6eb05929-334e-4a94-9e1b-936466e8db36",
   "metadata": {},
   "outputs": [
    {
     "name": "stdout",
     "output_type": "stream",
     "text": [
      "Animal speaks\n",
      "Dog barks\n"
     ]
    }
   ],
   "source": [
    "class Animal:\n",
    "    def speak(self):\n",
    "        print(\"Animal speaks\")\n",
    "\n",
    "class Dog(Animal):\n",
    "    def bark(self):\n",
    "        print(\"Dog barks\")\n",
    "\n",
    "dog = Dog()\n",
    "dog.speak()  # Output: Animal speaks\n",
    "dog.bark()   # Output: Dog barks\n"
   ]
  },
  {
   "cell_type": "code",
   "execution_count": null,
   "id": "39ad1557-e031-4c4a-aaab-88abc36e0467",
   "metadata": {},
   "outputs": [],
   "source": [
    "\"\"\"\" Example of Multiple Inheritance \"\"\"\""
   ]
  },
  {
   "cell_type": "code",
   "execution_count": 6,
   "id": "b420aae5-0991-4de7-90f1-57fbbf034ba9",
   "metadata": {},
   "outputs": [
    {
     "name": "stdout",
     "output_type": "stream",
     "text": [
      "Flying\n",
      "Swimming\n"
     ]
    }
   ],
   "source": [
    "class Flyer:\n",
    "    def fly(self):\n",
    "        print(\"Flying\")\n",
    "\n",
    "class Swimmer:\n",
    "    def swim(self):\n",
    "        print(\"Swimming\")\n",
    "\n",
    "class Duck(Flyer, Swimmer):\n",
    "    pass\n",
    "\n",
    "duck = Duck()\n",
    "duck.fly()   # Output: Flying\n",
    "duck.swim()  # Output: Swimming\n"
   ]
  },
  {
   "cell_type": "code",
   "execution_count": null,
   "id": "ee631113-a96c-4010-b94a-12e2b0a985a7",
   "metadata": {},
   "outputs": [],
   "source": [
    "\"\"\" Example of Multilevel Inheritance \"\"\""
   ]
  },
  {
   "cell_type": "code",
   "execution_count": 7,
   "id": "99c3ff40-6184-44e0-bda7-553d0f40897e",
   "metadata": {},
   "outputs": [
    {
     "name": "stdout",
     "output_type": "stream",
     "text": [
      "Vehicle moves\n",
      "Car drives\n",
      "SportsCar races\n"
     ]
    }
   ],
   "source": [
    "class Vehicle:\n",
    "    def move(self):\n",
    "        print(\"Vehicle moves\")\n",
    "\n",
    "class Car(Vehicle):\n",
    "    def drive(self):\n",
    "        print(\"Car drives\")\n",
    "\n",
    "class SportsCar(Car):\n",
    "    def race(self):\n",
    "        print(\"SportsCar races\")\n",
    "\n",
    "sports_car = SportsCar()\n",
    "sports_car.move()  # Output: Vehicle moves\n",
    "sports_car.drive()  # Output: Car drives\n",
    "sports_car.race()  # Output: SportsCar races\n"
   ]
  },
  {
   "cell_type": "code",
   "execution_count": null,
   "id": "2f2eb3fe-662c-416f-827f-173989fbec98",
   "metadata": {},
   "outputs": [],
   "source": [
    "\"\"\" Example of Hierarchical Inheritance \"\"\""
   ]
  },
  {
   "cell_type": "code",
   "execution_count": 8,
   "id": "caca5468-474d-4e0c-be22-45133e4c51e4",
   "metadata": {},
   "outputs": [
    {
     "name": "stdout",
     "output_type": "stream",
     "text": [
      "Animal eats\n",
      "Cat meows\n",
      "Animal eats\n",
      "Dog barks\n"
     ]
    }
   ],
   "source": [
    "class Animal:\n",
    "    def eat(self):\n",
    "        print(\"Animal eats\")\n",
    "\n",
    "class Cat(Animal):\n",
    "    def meow(self):\n",
    "        print(\"Cat meows\")\n",
    "\n",
    "class Dog(Animal):\n",
    "    def bark(self):\n",
    "        print(\"Dog barks\")\n",
    "\n",
    "cat = Cat()\n",
    "cat.eat()  # Output: Animal eats\n",
    "cat.meow()  # Output: Cat meows\n",
    "\n",
    "dog = Dog()\n",
    "dog.eat()  # Output: Animal eats\n",
    "dog.bark()  # Output: Dog barks\n"
   ]
  },
  {
   "cell_type": "code",
   "execution_count": null,
   "id": "3858c93f-3a27-4a3e-8603-d464091ec556",
   "metadata": {},
   "outputs": [],
   "source": [
    "\"\"\" \"\"\" "
   ]
  },
  {
   "cell_type": "code",
   "execution_count": null,
   "id": "64a1b8cd-c6ed-4365-90e3-8d9b6d22ce32",
   "metadata": {},
   "outputs": [],
   "source": []
  },
  {
   "cell_type": "code",
   "execution_count": null,
   "id": "67ea280c-a08b-4a6e-b02d-bfca481d0eb5",
   "metadata": {},
   "outputs": [],
   "source": []
  },
  {
   "cell_type": "code",
   "execution_count": null,
   "id": "e5ea744b-9b04-4e56-b735-dc3138faa647",
   "metadata": {},
   "outputs": [],
   "source": []
  },
  {
   "cell_type": "code",
   "execution_count": null,
   "id": "6361b6e8-3b52-4874-a7cf-176a76a7757e",
   "metadata": {},
   "outputs": [],
   "source": []
  },
  {
   "cell_type": "code",
   "execution_count": null,
   "id": "b38c5869-32ae-43ca-9e09-68937f8e35bc",
   "metadata": {},
   "outputs": [],
   "source": []
  },
  {
   "cell_type": "markdown",
   "id": "28b2e3ce-cb28-448f-94e2-c12bc3396b6f",
   "metadata": {},
   "source": []
  }
 ],
 "metadata": {
  "kernelspec": {
   "display_name": "Python 3 (ipykernel)",
   "language": "python",
   "name": "python3"
  },
  "language_info": {
   "codemirror_mode": {
    "name": "ipython",
    "version": 3
   },
   "file_extension": ".py",
   "mimetype": "text/x-python",
   "name": "python",
   "nbconvert_exporter": "python",
   "pygments_lexer": "ipython3",
   "version": "3.10.8"
  }
 },
 "nbformat": 4,
 "nbformat_minor": 5
}
